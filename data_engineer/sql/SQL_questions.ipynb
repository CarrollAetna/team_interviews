{
 "cells": [
  {
   "cell_type": "markdown",
   "metadata": {},
   "source": [
    "## Tables:\n",
    "\n",
    "### Employee\n",
    "\n",
    "| Column  | DTYPE  |\n",
    "|---|---|\n",
    "| EMP_ID  | INT | \n",
    "| NAME  | VARCHAR | \n",
    "| SALARY | DECIMAL | \n",
    "\n",
    "### EmployeeSalary\n",
    "\n",
    "| Column  | DTYPE  |\n",
    "|---|---|\n",
    "| ID  | INT | \n",
    "| SALARY  | DECIMAL | \n",
    "| EmployeeID | INT |\n",
    "\n",
    "### ManagerSalary\n",
    "\n",
    "| Column  | DTYPE  |\n",
    "|---|---|\n",
    "| ID  | INT | \n",
    "| NAME  | VARCHAR | \n",
    "| SALARY  | DECIMAL | \n",
    "| EMP_ID | INT |"
   ]
  },
  {
   "cell_type": "markdown",
   "metadata": {},
   "source": [
    "Q1. Write a SQL query to find the position of the alphabet (‘a’) in the first name column ‘Brian’ from a table.\n",
    "   "
   ]
  },
  {
   "cell_type": "markdown",
   "metadata": {},
   "source": []
  },
  {
   "cell_type": "markdown",
   "metadata": {},
   "source": [
    "Q2. What is a general way to clone(copy) a table without information is?"
   ]
  },
  {
   "cell_type": "markdown",
   "metadata": {},
   "source": []
  },
  {
   "cell_type": "markdown",
   "metadata": {},
   "source": [
    "Q3. Write a SQL query to fetch the names of workers who earn the highest salary."
   ]
  },
  {
   "cell_type": "markdown",
   "metadata": {},
   "source": []
  },
  {
   "cell_type": "markdown",
   "metadata": {},
   "source": [
    "Q4. Write a SQL query to find the maximum, minimum, and average salary of the employees."
   ]
  },
  {
   "cell_type": "markdown",
   "metadata": {},
   "source": []
  },
  {
   "cell_type": "markdown",
   "metadata": {},
   "source": [
    "Q5. Write a SQL query to fetch records that are present in one table but not in another table."
   ]
  },
  {
   "cell_type": "markdown",
   "metadata": {},
   "source": []
  },
  {
   "cell_type": "code",
   "execution_count": null,
   "metadata": {},
   "outputs": [],
   "source": []
  }
 ],
 "metadata": {
  "kernelspec": {
   "display_name": "Python 3.7.7 64-bit ('base': conda)",
   "name": "python377jvsc74a57bd037b30fcd996cf05c7790d78cc8b8eebad45c372b488da9c3e079c008be6e646b"
  },
  "language_info": {
   "name": "python",
   "version": ""
  },
  "orig_nbformat": 2
 },
 "nbformat": 4,
 "nbformat_minor": 2
}